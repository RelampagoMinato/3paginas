{
  "nbformat": 4,
  "nbformat_minor": 0,
  "metadata": {
    "colab": {
      "provenance": [],
      "authorship_tag": "ABX9TyOPihiRpeQHExiTNqmYob45",
      "include_colab_link": true
    },
    "kernelspec": {
      "name": "python3",
      "display_name": "Python 3"
    },
    "language_info": {
      "name": "python"
    }
  },
  "cells": [
    {
      "cell_type": "markdown",
      "metadata": {
        "id": "view-in-github",
        "colab_type": "text"
      },
      "source": [
        "<a href=\"https://colab.research.google.com/github/RelampagoMinato/3paginas/blob/main/Untitled0.ipynb\" target=\"_parent\"><img src=\"https://colab.research.google.com/assets/colab-badge.svg\" alt=\"Open In Colab\"/></a>"
      ]
    },
    {
      "cell_type": "code",
      "source": [
        "print(\"Ola, mundo!\")"
      ],
      "metadata": {
        "colab": {
          "base_uri": "https://localhost:8080/"
        },
        "id": "zfFK9Oiw01vD",
        "outputId": "fa0ff940-950f-48ef-d47d-1b188a6e1d5e"
      },
      "execution_count": 3,
      "outputs": [
        {
          "output_type": "stream",
          "name": "stdout",
          "text": [
            "Ola, mundo!\n"
          ]
        }
      ]
    },
    {
      "cell_type": "code",
      "source": [
        "nome = \"Nat\""
      ],
      "metadata": {
        "id": "HXRt2-0G15Ap"
      },
      "execution_count": 7,
      "outputs": []
    },
    {
      "cell_type": "code",
      "source": [
        "#Variável do tipo string (string é o mesmo que texto.)\n",
        "print(nome)\n",
        "type(nome)"
      ],
      "metadata": {
        "colab": {
          "base_uri": "https://localhost:8080/"
        },
        "id": "eIQ9q7ZQ16Bt",
        "outputId": "734279e5-5153-43dc-cb70-d79c5983d8f8"
      },
      "execution_count": 9,
      "outputs": [
        {
          "output_type": "stream",
          "name": "stdout",
          "text": [
            "Nat\n"
          ]
        },
        {
          "output_type": "execute_result",
          "data": {
            "text/plain": [
              "str"
            ]
          },
          "metadata": {},
          "execution_count": 9
        }
      ]
    },
    {
      "cell_type": "code",
      "source": [
        "idade = 28\n",
        "print(idade)\n",
        "type(idade)"
      ],
      "metadata": {
        "colab": {
          "base_uri": "https://localhost:8080/"
        },
        "id": "AD4QQksj2rg_",
        "outputId": "5534e75c-81d6-44e0-f945-18507599fb33"
      },
      "execution_count": 14,
      "outputs": [
        {
          "output_type": "stream",
          "name": "stdout",
          "text": [
            "28\n"
          ]
        },
        {
          "output_type": "execute_result",
          "data": {
            "text/plain": [
              "int"
            ]
          },
          "metadata": {},
          "execution_count": 14
        }
      ]
    },
    {
      "cell_type": "code",
      "source": [
        "altura = 1.70\n",
        "print(altura)\n",
        "type(altura)"
      ],
      "metadata": {
        "colab": {
          "base_uri": "https://localhost:8080/"
        },
        "id": "6Zjx4R863mUV",
        "outputId": "be95466a-de66-491f-a9ab-6b1ec0ae158d"
      },
      "execution_count": 16,
      "outputs": [
        {
          "output_type": "stream",
          "name": "stdout",
          "text": [
            "1.7\n"
          ]
        },
        {
          "output_type": "execute_result",
          "data": {
            "text/plain": [
              "float"
            ]
          },
          "metadata": {},
          "execution_count": 16
        }
      ]
    },
    {
      "cell_type": "code",
      "source": [
        "nome = input(\"Digite o seu nome: \")"
      ],
      "metadata": {
        "colab": {
          "base_uri": "https://localhost:8080/"
        },
        "id": "niNIlZAf5eCm",
        "outputId": "0d9eb3ff-a521-4cb4-b1a3-64f8524bff10"
      },
      "execution_count": 34,
      "outputs": [
        {
          "name": "stdout",
          "output_type": "stream",
          "text": [
            "Digite o seu nome: Julio\n"
          ]
        }
      ]
    },
    {
      "cell_type": "code",
      "source": [
        "print(nome)\n"
      ],
      "metadata": {
        "colab": {
          "base_uri": "https://localhost:8080/"
        },
        "id": "qh5VIPNV56Ba",
        "outputId": "38ad13fc-45af-48b0-87f7-41333d0414e1"
      },
      "execution_count": 35,
      "outputs": [
        {
          "output_type": "stream",
          "name": "stdout",
          "text": [
            "Julio\n"
          ]
        }
      ]
    },
    {
      "cell_type": "code",
      "source": [
        "# O f'' é usado para formatar uma mensagem simpática de saída.\n",
        "# A sintaxe é escrever a mensagem entre aspas e colocar as variáveis entre chaves.\n",
        "print(f\"Olá {nome}! Seja bem vindo(a) ao programa Match!\")"
      ],
      "metadata": {
        "colab": {
          "base_uri": "https://localhost:8080/"
        },
        "id": "wBJAhFQq8L1L",
        "outputId": "ed3c7441-f83a-45f3-ae9f-30b4dfd38365"
      },
      "execution_count": 32,
      "outputs": [
        {
          "output_type": "stream",
          "name": "stdout",
          "text": [
            "Olá Nicolas! Seja bem vindo(a) ao programa Match!\n"
          ]
        }
      ]
    },
    {
      "cell_type": "code",
      "source": [
        "print(f\"Oi, meu nome e {nome}, eu tenho {idade} anos e {altura} de altura.\")"
      ],
      "metadata": {
        "colab": {
          "base_uri": "https://localhost:8080/"
        },
        "id": "wEgEMdOE_kVH",
        "outputId": "728dd82d-1ce7-47cb-bd0f-a4f36a751b3a"
      },
      "execution_count": 36,
      "outputs": [
        {
          "output_type": "stream",
          "name": "stdout",
          "text": [
            "Oi, meu nome e Julio, eu tenho 40 anos e 1.73 de altura.\n"
          ]
        }
      ]
    },
    {
      "cell_type": "code",
      "source": [
        "# Entradas\n",
        "# Pedir dois numeros para o usuario.\n",
        "numero1 = int(input(\"Digite o primeiro numero: \"))\n",
        "numero2 = int(input(\"Digite o segundo numero: \"))\n",
        "\n",
        "# PROCESSAMENTO\n",
        "# Somar os dois numeros.\n",
        "resultado = numero1 + numero2\n",
        "# SAIDA\n",
        "# Mostrar o resultado na tela\n",
        "print(f\"A soma do numero {numero1} + o numero {numero2} e: {resultado}\")\n",
        "print(f\"A soma e: {numero1 + numero2}\")\n"
      ],
      "metadata": {
        "colab": {
          "base_uri": "https://localhost:8080/"
        },
        "id": "r4MQXjRpAhkP",
        "outputId": "99049cd9-12cf-47cb-dc69-4060959749d9"
      },
      "execution_count": 42,
      "outputs": [
        {
          "output_type": "stream",
          "name": "stdout",
          "text": [
            "Digite o primeiro numero: 6\n",
            "Digite o segundo numero: 1\n",
            "A soma do numero 6 + o numero 1 e: 7\n"
          ]
        }
      ]
    },
    {
      "cell_type": "code",
      "source": [
        "#Crie um algoritmo que some 3 notas de um aluno e tire a media. Se a media for maior ou igual a 6, ele passou de ano.\n",
        "#Caso contrario, repetiu de ano.\n",
        "\n",
        "# ENTRADA\n",
        "# Pedir tres notas de um aluno.\n",
        "nota1 = float(input(\"Digite a primeira nota: \"))\n",
        "nota2 = float(input(\"Digite a segunda nota: \"))\n",
        "nota3 = float(input(\"Digite a terceira nota: \"))\n",
        "# PROCESSAMENTO\n",
        "# somar as notas e dividir por 3 para tirar a media.\n",
        "\n",
        "media = (nota1 + nota2 + nota3) / 3\n",
        "\n",
        "print(media)\n",
        "\n",
        "if media >= 6:\n",
        "  print(f\"PARABENS! Voce tirou media {media}. VOCÊ PASSOU DE ANO.\")\n",
        "else:\n",
        "  print(\"Infelizmente você reprovou\")\n",
        "\n",
        "# SAIDA\n",
        "# Se a media for maior ou igual a 6, passou de ano.\n",
        "# Caso contrario, repetiu.\n",
        "\n"
      ],
      "metadata": {
        "colab": {
          "base_uri": "https://localhost:8080/"
        },
        "id": "lqjU8zvdCEgj",
        "outputId": "53512a98-184a-40c0-a9ca-f18a0b9dd019"
      },
      "execution_count": 49,
      "outputs": [
        {
          "output_type": "stream",
          "name": "stdout",
          "text": [
            "Digite a primeira nota: 10\n",
            "Digite a segunda nota: 9\n",
            "Digite a terceira nota: 8\n",
            "9.0\n",
            "PARABENS! Voce tirou media 9.0. VOCÊ PASSOU DE ANO.\n"
          ]
        }
      ]
    }
  ]
}